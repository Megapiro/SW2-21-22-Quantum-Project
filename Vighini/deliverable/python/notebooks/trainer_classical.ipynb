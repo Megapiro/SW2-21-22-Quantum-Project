{
 "cells": [
  {
   "cell_type": "code",
   "execution_count": 1,
   "id": "5a79dcd7",
   "metadata": {},
   "outputs": [
    {
     "name": "stderr",
     "output_type": "stream",
     "text": [
      "c:\\python38\\lib\\site-packages\\tqdm\\auto.py:22: TqdmWarning: IProgress not found. Please update jupyter and ipywidgets. See https://ipywidgets.readthedocs.io/en/stable/user_install.html\n",
      "  from .autonotebook import tqdm as notebook_tqdm\n"
     ]
    }
   ],
   "source": [
    "import torch\n",
    "\n",
    "BATCH_SIZE = 30\n",
    "EPOCHS = 30\n",
    "LEARNING_RATE = 3e-2\n",
    "SEED = 0"
   ]
  },
  {
   "cell_type": "code",
   "execution_count": 4,
   "id": "8d9d382e",
   "metadata": {},
   "outputs": [],
   "source": [
    "def read_data(filename):\n",
    "    labels, sentences = [], []\n",
    "    with open(filename) as f:\n",
    "        for line in f:\n",
    "            t = float(line[0])\n",
    "            labels.append([t, 1-t])\n",
    "            sentences.append(line[1:].strip())\n",
    "    return labels, sentences\n",
    "\n",
    "\n",
    "train_labels, train_data = read_data('../data/mm_mc_train_data.txt')\n",
    "val_labels, val_data = read_data('../data/mm_mc_dev_data.txt')\n",
    "test_labels, test_data = read_data('../data/mm_mc_test_data.txt')"
   ]
  },
  {
   "cell_type": "markdown",
   "id": "77206b8a-09de-4303-bb14-0d97872e5deb",
   "metadata": {},
   "source": [
    "Use one between the following two: BobcatParser or spiders_reader"
   ]
  },
  {
   "cell_type": "code",
   "execution_count": 5,
   "id": "0884925f-77d4-4042-8c8c-29741b423d58",
   "metadata": {},
   "outputs": [
    {
     "name": "stderr",
     "output_type": "stream",
     "text": [
      "                                                                                                                       \r"
     ]
    }
   ],
   "source": [
    "from lambeq import BobcatParser\n",
    "\n",
    "parser = BobcatParser(model_name_or_path='D:/Stefano/Documents/Python/Jupyter/QNLP/model/')\n",
    "\n",
    "train_diagrams = parser.sentences2diagrams(train_data)\n",
    "val_diagrams = parser.sentences2diagrams(val_data)\n",
    "test_diagrams = parser.sentences2diagrams(test_data)"
   ]
  },
  {
   "cell_type": "code",
   "execution_count": 13,
   "id": "c5b175ce-cddd-4031-80a7-8b0fa5af85f6",
   "metadata": {},
   "outputs": [],
   "source": [
    "from lambeq import spiders_reader\n",
    "\n",
    "train_diagrams = spiders_reader.sentences2diagrams(train_data)\n",
    "val_diagrams = spiders_reader.sentences2diagrams(val_data)\n",
    "test_diagrams = spiders_reader.sentences2diagrams(test_data)"
   ]
  },
  {
   "cell_type": "code",
   "execution_count": 14,
   "id": "8ff4a695",
   "metadata": {},
   "outputs": [
    {
     "data": {
      "image/png": "[encoded data removed]",
      "text/plain": [
       "<Figure size 432x288 with 1 Axes>"
      ]
     },
     "metadata": {},
     "output_type": "display_data"
    }
   ],
   "source": [
    "from discopy import Dim\n",
    "\n",
    "from lambeq import AtomicType, SpiderAnsatz\n",
    "\n",
    "ansatz = SpiderAnsatz({AtomicType.NOUN: Dim(2),\n",
    "                       AtomicType.SENTENCE: Dim(2)})\n",
    "\n",
    "train_circuits = [ansatz(diagram) for diagram in train_diagrams]\n",
    "val_circuits =  [ansatz(diagram) for diagram in val_diagrams]\n",
    "test_circuits = [ansatz(diagram) for diagram in test_diagrams]\n",
    "\n",
    "train_circuits[0].draw()"
   ]
  },
  {
   "cell_type": "code",
   "execution_count": 15,
   "id": "6af15e2e",
   "metadata": {},
   "outputs": [],
   "source": [
    "from lambeq import PytorchModel\n",
    "\n",
    "all_circuits = train_circuits + val_circuits + test_circuits\n",
    "model = PytorchModel.from_diagrams(all_circuits)"
   ]
  },
  {
   "cell_type": "code",
   "execution_count": 16,
   "id": "8b1ddefe",
   "metadata": {},
   "outputs": [],
   "source": [
    "sig = torch.sigmoid\n",
    "\n",
    "def accuracy(y_hat, y):\n",
    "    return torch.sum(torch.eq(torch.round(sig(y_hat)), y))/len(y)/2  # half due to double-counting\n",
    "\n",
    "eval_metrics = {\"acc\": accuracy}"
   ]
  },
  {
   "cell_type": "code",
   "execution_count": 17,
   "id": "12956c29",
   "metadata": {},
   "outputs": [],
   "source": [
    "from lambeq import PytorchTrainer\n",
    "\n",
    "trainer = PytorchTrainer(\n",
    "        model=model,\n",
    "        loss_function=torch.nn.BCEWithLogitsLoss(),\n",
    "        optimizer=torch.optim.AdamW,\n",
    "        learning_rate=LEARNING_RATE,\n",
    "        epochs=EPOCHS,\n",
    "        evaluate_functions=eval_metrics,\n",
    "        evaluate_on_train=True,\n",
    "        verbose='text',\n",
    "        seed=SEED)"
   ]
  },
  {
   "cell_type": "code",
   "execution_count": 18,
   "id": "d7b36ac5",
   "metadata": {},
   "outputs": [],
   "source": [
    "from lambeq import Dataset\n",
    "\n",
    "train_dataset = Dataset(\n",
    "            train_circuits,\n",
    "            train_labels,\n",
    "            batch_size=BATCH_SIZE)\n",
    "\n",
    "val_dataset = Dataset(val_circuits, val_labels, shuffle=False)"
   ]
  },
  {
   "cell_type": "code",
   "execution_count": 19,
   "id": "d00e560a",
   "metadata": {},
   "outputs": [
    {
     "name": "stderr",
     "output_type": "stream",
     "text": [
      "Epoch 1:   train/loss: 0.6905   valid/loss: 0.6876   train/acc: 0.5188   valid/acc: 0.4500\n",
      "Epoch 5:   train/loss: 0.6208   valid/loss: 0.6351   train/acc: 0.7500   valid/acc: 0.7750\n",
      "Epoch 10:  train/loss: 0.4079   valid/loss: 0.3824   train/acc: 0.8250   valid/acc: 0.8750\n",
      "Epoch 15:  train/loss: 0.2262   valid/loss: 0.1694   train/acc: 0.8750   valid/acc: 0.8750\n",
      "Epoch 20:  train/loss: 0.1643   valid/loss: 0.1240   train/acc: 0.9000   valid/acc: 0.9000\n",
      "Epoch 25:  train/loss: 0.0583   valid/loss: 0.0308   train/acc: 1.0000   valid/acc: 1.0000\n",
      "Epoch 30:  train/loss: 0.0028   valid/loss: 0.0018   train/acc: 1.0000   valid/acc: 1.0000\n",
      "\n",
      "Training completed!\n"
     ]
    }
   ],
   "source": [
    "trainer.fit(train_dataset, val_dataset, evaluation_step=1, logging_step=5)"
   ]
  },
  {
   "cell_type": "code",
   "execution_count": 20,
   "id": "fa5a160e",
   "metadata": {},
   "outputs": [
    {
     "name": "stdout",
     "output_type": "stream",
     "text": [
      "Test accuracy: 1.0\n"
     ]
    },
    {
     "data": {
      "image/png": "[encoded data removed]",
      "text/plain": [
       "<Figure size 720x432 with 4 Axes>"
      ]
     },
     "metadata": {
      "needs_background": "light"
     },
     "output_type": "display_data"
    }
   ],
   "source": [
    "import matplotlib.pyplot as plt\n",
    "\n",
    "fig1, ((ax_tl, ax_tr), (ax_bl, ax_br)) = plt.subplots(2, 2, sharey='row', figsize=(10, 6))\n",
    "\n",
    "ax_tl.set_title('Training set')\n",
    "ax_tr.set_title('Development set')\n",
    "ax_bl.set_xlabel('Epochs')\n",
    "ax_br.set_xlabel('Epochs')\n",
    "ax_bl.set_ylabel('Accuracy')\n",
    "ax_tl.set_ylabel('Loss')\n",
    "\n",
    "colours = iter(plt.rcParams['axes.prop_cycle'].by_key()['color'])\n",
    "ax_tl.plot(trainer.train_epoch_costs, color=next(colours))\n",
    "ax_bl.plot(trainer.train_results['acc'], color=next(colours))\n",
    "ax_tr.plot(trainer.val_costs, color=next(colours))\n",
    "ax_br.plot(trainer.val_results['acc'], color=next(colours))\n",
    "\n",
    "# print test accuracy\n",
    "test_acc = accuracy(model(test_circuits), torch.tensor(test_labels))\n",
    "print('Test accuracy:', test_acc.item())"
   ]
  },
  {
   "cell_type": "code",
   "execution_count": null,
   "id": "382fae85-40ad-41f7-8788-c546d34abb86",
   "metadata": {},
   "outputs": [],
   "source": []
  }
 ],
 "metadata": {
  "kernelspec": {
   "display_name": "Python 3 (ipykernel)",
   "language": "python",
   "name": "python3"
  },
  "language_info": {
   "codemirror_mode": {
    "name": "ipython",
    "version": 3
   },
   "file_extension": ".py",
   "mimetype": "text/x-python",
   "name": "python",
   "nbconvert_exporter": "python",
   "pygments_lexer": "ipython3",
   "version": "3.8.5"
  }
 },
 "nbformat": 4,
 "nbformat_minor": 5
}
